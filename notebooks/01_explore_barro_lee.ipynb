{
 "cells": [
  {
   "cell_type": "markdown",
   "id": "445e77b1-b345-4011-b8c2-97dbdb0a1c17",
   "metadata": {},
   "source": [
    "# Initial Data Exploration: Barro-Lee Dataset\n",
    "\n",
    "This notebook explores the [Barro-Lee dataset](http://barrolee.com/?page_id=99) on educational attainment for the population aged 25–64. The goal is to understand the structure, identify usable metrics, and prepare it for analysis."
   ]
  },
  {
   "cell_type": "markdown",
   "id": "771d692f-d4ea-4509-acda-ccd32275eee0",
   "metadata": {},
   "source": [
    "## Step 1: Import Libraries & Load Data"
   ]
  },
  {
   "cell_type": "code",
   "execution_count": 3,
   "id": "8806d751-c876-4329-82ed-31809ed3709b",
   "metadata": {},
   "outputs": [],
   "source": [
    "import pandas as pd\n",
    "import numpy as np\n",
    "import matplotlib.pyplot as plt\n",
    "import seaborn as sns"
   ]
  },
  {
   "cell_type": "code",
   "execution_count": 4,
   "id": "2d1c46be-3f1e-42f4-9afa-feedecc35918",
   "metadata": {},
   "outputs": [],
   "source": [
    "df = pd.read_csv(\"../data/BL_v3_MF2564.csv\")"
   ]
  },
  {
   "cell_type": "markdown",
   "id": "27f2be0c-e636-4343-babf-75d954d29797",
   "metadata": {},
   "source": [
    "## Step 2: Initial Inspection & Clean-Up"
   ]
  },
  {
   "cell_type": "markdown",
   "id": "e43674d7-ff67-47c7-a2f9-138622aec176",
   "metadata": {},
   "source": [
    "### Shape & Columns"
   ]
  },
  {
   "cell_type": "code",
   "execution_count": 7,
   "id": "7bed8aa1-1ea0-482f-a128-93b5fb3a7dc4",
   "metadata": {},
   "outputs": [
    {
     "name": "stdout",
     "output_type": "stream",
     "text": [
      "---Shape:\n",
      " (2044, 20)\n",
      "---Columns:\n",
      " Index(['BLcode', 'country', 'year', 'sex', 'agefrom', 'ageto', 'lu', 'lp',\n",
      "       'lpc', 'ls', 'lsc', 'lh', 'lhc', 'yr_sch', 'yr_sch_pri', 'yr_sch_sec',\n",
      "       'yr_sch_ter', 'WBcode', 'region_code', 'pop'],\n",
      "      dtype='object')\n"
     ]
    }
   ],
   "source": [
    "print(\"---Shape:\\n\", df.shape)\n",
    "print(\"---Columns:\\n\", df.columns)"
   ]
  },
  {
   "cell_type": "code",
   "execution_count": 8,
   "id": "7ac10e89-65a2-40eb-96b8-e7f531fbf95a",
   "metadata": {},
   "outputs": [
    {
     "name": "stdout",
     "output_type": "stream",
     "text": [
      "Index(['blcode', 'country', 'year', 'sex', 'agefrom', 'ageto', 'lu', 'lp',\n",
      "       'lpc', 'ls', 'lsc', 'lh', 'lhc', 'yr_sch', 'yr_sch_pri', 'yr_sch_sec',\n",
      "       'yr_sch_ter', 'wbcode', 'region_code', 'pop'],\n",
      "      dtype='object')\n"
     ]
    }
   ],
   "source": [
    "# Do the column names need changing/cleaning?\n",
    "df.columns = df.columns.str.lower()\n",
    "print(df.columns)"
   ]
  },
  {
   "cell_type": "markdown",
   "id": "e8202477-a880-42a8-a298-557b102844b5",
   "metadata": {},
   "source": [
    "### Preview Data"
   ]
  },
  {
   "cell_type": "code",
   "execution_count": 10,
   "id": "7d4d7144-fc65-4f05-ae89-bbe2c8628089",
   "metadata": {},
   "outputs": [
    {
     "name": "stdout",
     "output_type": "stream",
     "text": [
      "---Head:\n",
      "    blcode  country  year sex  agefrom  ageto     lu     lp   lpc    ls   lsc  \\\n",
      "0       1  Algeria  1950  MF       25     64  79.68  18.33  3.50  1.63  0.54   \n",
      "1       1  Algeria  1955  MF       25     64  80.31  17.57  3.70  1.71  0.50   \n",
      "2       1  Algeria  1960  MF       25     64  84.61  13.38  2.91  1.68  0.65   \n",
      "3       1  Algeria  1965  MF       25     64  87.12  10.53  2.59  1.93  0.87   \n",
      "4       1  Algeria  1970  MF       25     64  83.25  13.82  3.63  2.47  1.36   \n",
      "\n",
      "     lh   lhc  yr_sch  yr_sch_pri  yr_sch_sec  yr_sch_ter wbcode  \\\n",
      "0  0.35  0.23   0.892       0.774       0.106       0.012    DZA   \n",
      "1  0.37  0.24   0.883       0.762       0.109       0.012    DZA   \n",
      "2  0.34  0.22   0.731       0.610       0.110       0.011    DZA   \n",
      "3  0.44  0.28   0.683       0.535       0.134       0.014    DZA   \n",
      "4  0.36  0.22   0.869       0.693       0.165       0.012    DZA   \n",
      "\n",
      "                    region_code     pop  \n",
      "0  Middle East and North Africa  3226.0  \n",
      "1  Middle East and North Africa  3485.0  \n",
      "2  Middle East and North Africa  3682.0  \n",
      "3  Middle East and North Africa  3823.0  \n",
      "4  Middle East and North Africa  4115.0  \n",
      "---Tail:\n",
      "       blcode  country  year sex  agefrom  ageto    lu    lp   lpc     ls  \\\n",
      "2039     358  Ukraine  1995  MF       25     64  1.25  7.25  6.00  59.26   \n",
      "2040     358  Ukraine  2000  MF       25     64  0.56  2.91  2.53  53.89   \n",
      "2041     358  Ukraine  2005  MF       25     64  0.35  1.83  1.59  55.46   \n",
      "2042     358  Ukraine  2010  MF       25     64  0.27  1.93  1.74  54.44   \n",
      "2043     358  Ukraine  2015  MF       25     64  0.24  4.37  4.07  50.67   \n",
      "\n",
      "        lsc     lh    lhc  yr_sch  yr_sch_pri  yr_sch_sec  yr_sch_ter wbcode  \\\n",
      "2039  44.47  32.24  21.75  10.862       5.001       4.781       1.080    UKR   \n",
      "2040  42.03  42.39  28.88  11.823       5.530       4.868       1.425    UKR   \n",
      "2041  45.15  42.37  28.82  11.928       5.691       4.813       1.424    UKR   \n",
      "2042  45.48  43.36  29.39  11.927       5.759       4.714       1.455    UKR   \n",
      "2043  42.24  44.71  29.69  11.857       5.678       4.691       1.488    UKR   \n",
      "\n",
      "                  region_code      pop  \n",
      "2039  Europe and Central Asia  26684.0  \n",
      "2040  Europe and Central Asia  26174.0  \n",
      "2041  Europe and Central Asia  24739.0  \n",
      "2042  Europe and Central Asia  24631.0  \n",
      "2043  Europe and Central Asia  26122.0  \n"
     ]
    }
   ],
   "source": [
    "print(\"---Head:\\n\", df.head())\n",
    "print(\"---Tail:\\n\", df.tail())"
   ]
  },
  {
   "cell_type": "code",
   "execution_count": 36,
   "id": "6fd90de3-4a13-4b11-8356-107c5fa9ab1d",
   "metadata": {},
   "outputs": [
    {
     "data": {
      "text/plain": [
       "\"\\nBLcode = Barro Lee Country Code\\nl = % of population's highest educational level attained\\nu = unschooled\\np = pri = primary\\ns = sec = secondary\\nh = ter = tertiary\\nc = completed\\nyr_sch = avg years of total schooling\\nyr_sch_X = avg years of X schooling\\nWBcode = World Bank Country Code\\npop = population (1000s)\\n\""
      ]
     },
     "execution_count": 36,
     "metadata": {},
     "output_type": "execute_result"
    }
   ],
   "source": [
    "# Are names clean?\n",
    "    # Yes, no change needed.\n",
    "# Are years in columns or rows?\n",
    "    # Years are in rows (long format), no change needed.\n",
    "# Are tertiary columns named well?\n",
    "    # More or less, here are the possible confusing ones:\n",
    "\"\"\"\n",
    "BLcode = Barro Lee Country Code\n",
    "l = % of population's highest educational level attained\n",
    "u = unschooled\n",
    "p = pri = primary\n",
    "s = sec = secondary\n",
    "h = ter = tertiary\n",
    "c = completed\n",
    "yr_sch = avg years of total schooling\n",
    "yr_sch_X = avg years of X schooling\n",
    "WBcode = World Bank Country Code\n",
    "pop = population (1000s)\n",
    "\"\"\"\n"
   ]
  },
  {
   "cell_type": "markdown",
   "id": "e4c2c49f-875f-4e91-b916-59a0256b9a4b",
   "metadata": {},
   "source": [
    "### Data Types & Missing Data"
   ]
  },
  {
   "cell_type": "code",
   "execution_count": 13,
   "id": "a402e1f4-3be1-4a44-9080-1a4949b499d8",
   "metadata": {},
   "outputs": [
    {
     "name": "stdout",
     "output_type": "stream",
     "text": [
      "<class 'pandas.core.frame.DataFrame'>\n",
      "RangeIndex: 2044 entries, 0 to 2043\n",
      "Data columns (total 20 columns):\n",
      " #   Column       Non-Null Count  Dtype  \n",
      "---  ------       --------------  -----  \n",
      " 0   blcode       2044 non-null   int64  \n",
      " 1   country      2044 non-null   object \n",
      " 2   year         2044 non-null   int64  \n",
      " 3   sex          2044 non-null   object \n",
      " 4   agefrom      2044 non-null   int64  \n",
      " 5   ageto        2044 non-null   int64  \n",
      " 6   lu           2044 non-null   float64\n",
      " 7   lp           2044 non-null   float64\n",
      " 8   lpc          2044 non-null   float64\n",
      " 9   ls           2044 non-null   float64\n",
      " 10  lsc          2044 non-null   float64\n",
      " 11  lh           2044 non-null   float64\n",
      " 12  lhc          2044 non-null   float64\n",
      " 13  yr_sch       2044 non-null   float64\n",
      " 14  yr_sch_pri   2044 non-null   float64\n",
      " 15  yr_sch_sec   2044 non-null   float64\n",
      " 16  yr_sch_ter   2044 non-null   float64\n",
      " 17  wbcode       2044 non-null   object \n",
      " 18  region_code  2044 non-null   object \n",
      " 19  pop          2044 non-null   float64\n",
      "dtypes: float64(12), int64(4), object(4)\n",
      "memory usage: 319.5+ KB\n",
      "---Info:\n",
      " None\n",
      "---Describe:\n",
      "             blcode         year  agefrom   ageto           lu           lp  \\\n",
      "count  2044.000000  2044.000000   2044.0  2044.0  2044.000000  2044.000000   \n",
      "mean    112.212329  1982.500000     25.0    64.0    32.548615    33.005837   \n",
      "std      91.009409    20.160577      0.0     0.0    30.807762    21.088341   \n",
      "min       1.000000  1950.000000     25.0    64.0     0.000000     0.000000   \n",
      "25%      50.000000  1965.000000     25.0    64.0     3.847500    15.190000   \n",
      "50%      91.500000  1982.500000     25.0    64.0    22.180000    31.615000   \n",
      "75%     131.000000  2000.000000     25.0    64.0    56.770000    47.917500   \n",
      "max     358.000000  2015.000000     25.0    64.0   100.000000    91.260000   \n",
      "\n",
      "               lpc           ls          lsc           lh          lhc  \\\n",
      "count  2044.000000  2044.000000  2044.000000  2044.000000  2044.000000   \n",
      "mean     17.227314    26.278762    15.167363     8.164217     5.224114   \n",
      "std      14.221987    21.533082    15.666791    10.186963     6.527106   \n",
      "min       0.000000     0.000000     0.000000     0.000000     0.000000   \n",
      "25%       5.957500     7.627500     3.025000     1.257500     0.750000   \n",
      "50%      13.700000    20.995000     9.440000     4.130000     2.665000   \n",
      "75%      24.695000    41.695000    22.895000    11.520000     7.300000   \n",
      "max      80.240000    94.820000    76.710000    67.850000    46.890000   \n",
      "\n",
      "            yr_sch   yr_sch_pri   yr_sch_sec   yr_sch_ter            pop  \n",
      "count  2044.000000  2044.000000  2044.000000  2044.000000    2044.000000  \n",
      "mean      5.590739     3.560471     1.762519     0.267765   13594.000000  \n",
      "std       3.546074     2.018806     1.595665     0.330990   53067.057449  \n",
      "min       0.000000     0.000000     0.000000     0.000000      10.000000  \n",
      "25%       2.559750     1.887000     0.465000     0.042000     888.250000  \n",
      "50%       5.135000     3.568000     1.258000     0.135000    2598.000000  \n",
      "75%       8.343500     5.208000     2.734250     0.380000    7712.500000  \n",
      "max      13.638000     8.993000     8.289000     1.958000  835303.000000  \n"
     ]
    }
   ],
   "source": [
    "print(\"---Info:\\n\", df.info())\n",
    "print(\"---Describe:\\n\", df.describe())"
   ]
  },
  {
   "cell_type": "code",
   "execution_count": 14,
   "id": "776d8cb0-2b43-4f08-885b-98239b7101c7",
   "metadata": {},
   "outputs": [
    {
     "data": {
      "text/plain": [
       "blcode         0\n",
       "country        0\n",
       "year           0\n",
       "sex            0\n",
       "agefrom        0\n",
       "ageto          0\n",
       "lu             0\n",
       "lp             0\n",
       "lpc            0\n",
       "ls             0\n",
       "lsc            0\n",
       "lh             0\n",
       "lhc            0\n",
       "yr_sch         0\n",
       "yr_sch_pri     0\n",
       "yr_sch_sec     0\n",
       "yr_sch_ter     0\n",
       "wbcode         0\n",
       "region_code    0\n",
       "pop            0\n",
       "dtype: int64"
      ]
     },
     "execution_count": 14,
     "metadata": {},
     "output_type": "execute_result"
    }
   ],
   "source": [
    "# Are there missing values?\n",
    "    # Does not seem so, let's check:\n",
    "df.isnull().sum()\n",
    "    # Correct, no missing values.\n",
    "# Are there columns with the wrong types?\n",
    "    # No, although population (pop) could be an integer, keeping it as a float can make future possible calculations easier.\n",
    "# Are there placeholder names for certain types (e.g.: NaNs)?\n",
    "    # No."
   ]
  },
  {
   "cell_type": "markdown",
   "id": "2d65a0cc-c882-4a96-a125-9813649fe8af",
   "metadata": {},
   "source": [
    "### Unique Values & Duplicates"
   ]
  },
  {
   "cell_type": "code",
   "execution_count": 16,
   "id": "dfe538a0-1625-4994-a344-18252d8e2197",
   "metadata": {},
   "outputs": [
    {
     "name": "stdout",
     "output_type": "stream",
     "text": [
      "Unique countries: 146\n",
      "==  146\n",
      "==  146\n",
      "Unique years: 14\n",
      "Unique sexes: ['MF']\n",
      "Unique age bands:    agefrom  ageto\n",
      "0       25     64\n"
     ]
    },
    {
     "data": {
      "text/plain": [
       "0"
      ]
     },
     "execution_count": 16,
     "metadata": {},
     "output_type": "execute_result"
    }
   ],
   "source": [
    "# Unique values\n",
    "print(\"Unique countries:\", df['country'].nunique()) # 146 total countries.\n",
    "print(\"== \", df['blcode'].nunique())\n",
    "print(\"== \", df['wbcode'].nunique())\n",
    "print(\"Unique years:\", df['year'].nunique()) # Years are multiples of 5, so there are 14 years between (including) 1950 and 2015.\n",
    "print(\"Unique sexes:\", df['sex'].unique()) # Both sexes are represented as a total.\n",
    "print(\"Unique age bands:\", df[['agefrom', 'ageto']].drop_duplicates()) # All age groups are from 25 to 64.\n",
    "\n",
    "# Duplicates\n",
    "df.duplicated().sum()"
   ]
  },
  {
   "cell_type": "code",
   "execution_count": 17,
   "id": "e411067b-0f7c-4ab4-9477-2520ac935502",
   "metadata": {},
   "outputs": [],
   "source": [
    "# Are there the correct number of unique values?\n",
    "    # Yes. 146 countries, years are in multiples of 5 (14 instances from 1950 to 2015), sex is total males and females, all age groups are from 25 to 64.\n",
    "# Are there any duplicates?\n",
    "    # No duplicates."
   ]
  },
  {
   "cell_type": "markdown",
   "id": "7e4a4280-0562-40c4-8f73-89b3762299f7",
   "metadata": {},
   "source": [
    "## Step 3: Reformat"
   ]
  },
  {
   "cell_type": "code",
   "execution_count": 19,
   "id": "44d527bc-0861-41d1-96f3-86e00185aa2e",
   "metadata": {},
   "outputs": [
    {
     "data": {
      "text/html": [
       "<div>\n",
       "<style scoped>\n",
       "    .dataframe tbody tr th:only-of-type {\n",
       "        vertical-align: middle;\n",
       "    }\n",
       "\n",
       "    .dataframe tbody tr th {\n",
       "        vertical-align: top;\n",
       "    }\n",
       "\n",
       "    .dataframe thead th {\n",
       "        text-align: right;\n",
       "    }\n",
       "</style>\n",
       "<table border=\"1\" class=\"dataframe\">\n",
       "  <thead>\n",
       "    <tr style=\"text-align: right;\">\n",
       "      <th></th>\n",
       "      <th>country</th>\n",
       "      <th>year</th>\n",
       "      <th>lh</th>\n",
       "      <th>lhc</th>\n",
       "      <th>pop</th>\n",
       "    </tr>\n",
       "  </thead>\n",
       "  <tbody>\n",
       "    <tr>\n",
       "      <th>0</th>\n",
       "      <td>Algeria</td>\n",
       "      <td>1950</td>\n",
       "      <td>0.35</td>\n",
       "      <td>0.23</td>\n",
       "      <td>3226.0</td>\n",
       "    </tr>\n",
       "    <tr>\n",
       "      <th>1</th>\n",
       "      <td>Algeria</td>\n",
       "      <td>1955</td>\n",
       "      <td>0.37</td>\n",
       "      <td>0.24</td>\n",
       "      <td>3485.0</td>\n",
       "    </tr>\n",
       "    <tr>\n",
       "      <th>2</th>\n",
       "      <td>Algeria</td>\n",
       "      <td>1960</td>\n",
       "      <td>0.34</td>\n",
       "      <td>0.22</td>\n",
       "      <td>3682.0</td>\n",
       "    </tr>\n",
       "    <tr>\n",
       "      <th>3</th>\n",
       "      <td>Algeria</td>\n",
       "      <td>1965</td>\n",
       "      <td>0.44</td>\n",
       "      <td>0.28</td>\n",
       "      <td>3823.0</td>\n",
       "    </tr>\n",
       "    <tr>\n",
       "      <th>4</th>\n",
       "      <td>Algeria</td>\n",
       "      <td>1970</td>\n",
       "      <td>0.36</td>\n",
       "      <td>0.22</td>\n",
       "      <td>4115.0</td>\n",
       "    </tr>\n",
       "    <tr>\n",
       "      <th>5</th>\n",
       "      <td>Algeria</td>\n",
       "      <td>1975</td>\n",
       "      <td>0.49</td>\n",
       "      <td>0.30</td>\n",
       "      <td>4755.0</td>\n",
       "    </tr>\n",
       "    <tr>\n",
       "      <th>6</th>\n",
       "      <td>Algeria</td>\n",
       "      <td>1980</td>\n",
       "      <td>1.00</td>\n",
       "      <td>0.61</td>\n",
       "      <td>5793.0</td>\n",
       "    </tr>\n",
       "    <tr>\n",
       "      <th>7</th>\n",
       "      <td>Algeria</td>\n",
       "      <td>1985</td>\n",
       "      <td>2.10</td>\n",
       "      <td>1.32</td>\n",
       "      <td>6881.0</td>\n",
       "    </tr>\n",
       "    <tr>\n",
       "      <th>8</th>\n",
       "      <td>Algeria</td>\n",
       "      <td>1990</td>\n",
       "      <td>3.51</td>\n",
       "      <td>2.24</td>\n",
       "      <td>8334.0</td>\n",
       "    </tr>\n",
       "    <tr>\n",
       "      <th>9</th>\n",
       "      <td>Algeria</td>\n",
       "      <td>1995</td>\n",
       "      <td>5.06</td>\n",
       "      <td>3.27</td>\n",
       "      <td>10048.0</td>\n",
       "    </tr>\n",
       "    <tr>\n",
       "      <th>10</th>\n",
       "      <td>Algeria</td>\n",
       "      <td>2000</td>\n",
       "      <td>6.47</td>\n",
       "      <td>4.24</td>\n",
       "      <td>11907.0</td>\n",
       "    </tr>\n",
       "    <tr>\n",
       "      <th>11</th>\n",
       "      <td>Algeria</td>\n",
       "      <td>2005</td>\n",
       "      <td>8.65</td>\n",
       "      <td>5.65</td>\n",
       "      <td>14196.0</td>\n",
       "    </tr>\n",
       "    <tr>\n",
       "      <th>12</th>\n",
       "      <td>Algeria</td>\n",
       "      <td>2010</td>\n",
       "      <td>10.93</td>\n",
       "      <td>7.10</td>\n",
       "      <td>16952.0</td>\n",
       "    </tr>\n",
       "    <tr>\n",
       "      <th>13</th>\n",
       "      <td>Algeria</td>\n",
       "      <td>2015</td>\n",
       "      <td>14.38</td>\n",
       "      <td>9.21</td>\n",
       "      <td>19379.0</td>\n",
       "    </tr>\n",
       "    <tr>\n",
       "      <th>14</th>\n",
       "      <td>Benin</td>\n",
       "      <td>1950</td>\n",
       "      <td>0.19</td>\n",
       "      <td>0.13</td>\n",
       "      <td>787.0</td>\n",
       "    </tr>\n",
       "  </tbody>\n",
       "</table>\n",
       "</div>"
      ],
      "text/plain": [
       "    country  year     lh   lhc      pop\n",
       "0   Algeria  1950   0.35  0.23   3226.0\n",
       "1   Algeria  1955   0.37  0.24   3485.0\n",
       "2   Algeria  1960   0.34  0.22   3682.0\n",
       "3   Algeria  1965   0.44  0.28   3823.0\n",
       "4   Algeria  1970   0.36  0.22   4115.0\n",
       "5   Algeria  1975   0.49  0.30   4755.0\n",
       "6   Algeria  1980   1.00  0.61   5793.0\n",
       "7   Algeria  1985   2.10  1.32   6881.0\n",
       "8   Algeria  1990   3.51  2.24   8334.0\n",
       "9   Algeria  1995   5.06  3.27  10048.0\n",
       "10  Algeria  2000   6.47  4.24  11907.0\n",
       "11  Algeria  2005   8.65  5.65  14196.0\n",
       "12  Algeria  2010  10.93  7.10  16952.0\n",
       "13  Algeria  2015  14.38  9.21  19379.0\n",
       "14    Benin  1950   0.19  0.13    787.0"
      ]
     },
     "execution_count": 19,
     "metadata": {},
     "output_type": "execute_result"
    }
   ],
   "source": [
    "df2 = df[[\"country\", \"year\", \"lh\", \"lhc\", \"pop\"]]\n",
    "df2.head(15)"
   ]
  },
  {
   "cell_type": "code",
   "execution_count": 20,
   "id": "d49c250a-3d0d-4f7c-a4ef-1bd97024e4c7",
   "metadata": {},
   "outputs": [
    {
     "data": {
      "image/png": "[encoded data removed]",
      "text/plain": [
       "<Figure size 1000x600 with 1 Axes>"
      ]
     },
     "metadata": {},
     "output_type": "display_data"
    }
   ],
   "source": [
    "## Example visualisation\n",
    "countries = ['United Kingdom', 'Brazil', 'Germany', 'South Africa', 'India', 'China', 'Russian Federation']\n",
    "plt.figure(figsize=(10, 6))\n",
    "\n",
    "for country in countries:\n",
    "    subset = df2[df2['country'] == country]\n",
    "    plt.plot(subset['year'], subset['lhc'], label=country)\n",
    "\n",
    "plt.title('Tertiary Education Attainment (Age 25–64)')\n",
    "plt.xlabel('Year')\n",
    "plt.ylabel('% with Tertiary Education')\n",
    "plt.legend()\n",
    "plt.grid(True)\n",
    "plt.tight_layout()\n",
    "plt.show()"
   ]
  },
  {
   "cell_type": "markdown",
   "id": "255ab8d7-38aa-49e2-83e0-b4e9b031b2ad",
   "metadata": {},
   "source": [
    "## Step 4: Save Processed Data"
   ]
  },
  {
   "cell_type": "code",
   "execution_count": 22,
   "id": "569b4b0d-6647-44ec-a50e-6f1d47f8c9fb",
   "metadata": {},
   "outputs": [],
   "source": [
    "df2.to_csv(\"../data/tertiary_clean.csv\")"
   ]
  }
 ],
 "metadata": {
  "kernelspec": {
   "display_name": "Python 3 (ipykernel)",
   "language": "python",
   "name": "python3"
  },
  "language_info": {
   "codemirror_mode": {
    "name": "ipython",
    "version": 3
   },
   "file_extension": ".py",
   "mimetype": "text/x-python",
   "name": "python",
   "nbconvert_exporter": "python",
   "pygments_lexer": "ipython3",
   "version": "3.12.3"
  }
 },
 "nbformat": 4,
 "nbformat_minor": 5
}
